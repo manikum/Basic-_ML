{
  "nbformat": 4,
  "nbformat_minor": 0,
  "metadata": {
    "colab": {
      "name": "Untitled4.ipynb",
      "provenance": [],
      "authorship_tag": "ABX9TyMzmlWkNN58+rAVOWoEvzLQ",
      "include_colab_link": true
    },
    "kernelspec": {
      "name": "python3",
      "display_name": "Python 3"
    },
    "language_info": {
      "name": "python"
    }
  },
  "cells": [
    {
      "cell_type": "markdown",
      "metadata": {
        "id": "view-in-github",
        "colab_type": "text"
      },
      "source": [
        "<a href=\"https://colab.research.google.com/github/manikum/Basic-_ML/blob/main/Untitled4.ipynb\" target=\"_parent\"><img src=\"https://colab.research.google.com/assets/colab-badge.svg\" alt=\"Open In Colab\"/></a>"
      ]
    },
    {
      "cell_type": "code",
      "metadata": {
        "id": "H0VoHv5mcKay"
      },
      "source": [
        ""
      ],
      "execution_count": null,
      "outputs": []
    },
    {
      "cell_type": "markdown",
      "metadata": {
        "id": "FvrE3qYhcLJ6"
      },
      "source": [
        "simple python programs"
      ]
    },
    {
      "cell_type": "code",
      "metadata": {
        "colab": {
          "base_uri": "https://localhost:8080/"
        },
        "id": "LJuFTDmpccsr",
        "outputId": "708d82f5-7735-4234-9f2c-df9f70d20d17"
      },
      "source": [
        "print(\"hello\")"
      ],
      "execution_count": null,
      "outputs": [
        {
          "output_type": "stream",
          "text": [
            "hello\n"
          ],
          "name": "stdout"
        }
      ]
    },
    {
      "cell_type": "code",
      "metadata": {
        "colab": {
          "base_uri": "https://localhost:8080/"
        },
        "id": "BP_YbWLOcrVm",
        "outputId": "d3cf5516-0315-4652-af25-2749b5fe336b"
      },
      "source": [
        "n = int(input(\"enter the number\"))\n",
        "if n%2==0:\n",
        "  print(n ,\" is even number\")\n",
        "else:\n",
        "  print(n ,\"is odd number\")"
      ],
      "execution_count": null,
      "outputs": [
        {
          "output_type": "stream",
          "text": [
            "enter the number2\n",
            "2  is even number\n"
          ],
          "name": "stdout"
        }
      ]
    },
    {
      "cell_type": "code",
      "metadata": {
        "colab": {
          "base_uri": "https://localhost:8080/"
        },
        "id": "0Ajp8Ey8czJo",
        "outputId": "e0edb9b0-ac17-470c-c510-365140a7eefd"
      },
      "source": [
        "a =10\n",
        "b =20\n",
        "c = a+b\n",
        "print(\"sum of two numbers =\",c)"
      ],
      "execution_count": null,
      "outputs": [
        {
          "output_type": "stream",
          "text": [
            "sum of two numbers = 30\n"
          ],
          "name": "stdout"
        }
      ]
    }
  ]
}